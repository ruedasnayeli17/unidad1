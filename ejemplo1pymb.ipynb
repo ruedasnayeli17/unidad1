{
  "nbformat": 4,
  "nbformat_minor": 0,
  "metadata": {
    "colab": {
      "provenance": [],
      "authorship_tag": "ABX9TyMtYC8PYfZ6+1wEs/vpH+GM",
      "include_colab_link": true
    },
    "kernelspec": {
      "name": "python3",
      "display_name": "Python 3"
    },
    "language_info": {
      "name": "python"
    }
  },
  "cells": [
    {
      "cell_type": "markdown",
      "metadata": {
        "id": "view-in-github",
        "colab_type": "text"
      },
      "source": [
        "<a href=\"https://colab.research.google.com/github/ruedasnayeli17/unidad1/blob/main/ejemplo1pymb.ipynb\" target=\"_parent\"><img src=\"https://colab.research.google.com/assets/colab-badge.svg\" alt=\"Open In Colab\"/></a>"
      ]
    },
    {
      "cell_type": "code",
      "execution_count": null,
      "metadata": {
        "id": "_quyXU6zwyAn"
      },
      "outputs": [],
      "source": []
    },
    {
      "cell_type": "markdown",
      "source": [
        "prueba de colab python"
      ],
      "metadata": {
        "id": "IKlsJL0ExnSp"
      }
    },
    {
      "cell_type": "markdown",
      "source": [
        "variables de python"
      ],
      "metadata": {
        "id": "dyyYCDH3ybbA"
      }
    },
    {
      "cell_type": "code",
      "source": [],
      "metadata": {
        "id": "GL9gNXsc1HTu"
      },
      "execution_count": null,
      "outputs": []
    },
    {
      "cell_type": "code",
      "source": [
        "nombre= \"nayeli\"\n",
        "paterno= \"ruedas\"\n",
        "materno= \"alejos\"\n",
        "edad=17\n",
        "estatura= 1.69\n",
        "\n",
        "print(nombre,paterno,materno,edad,estatura)"
      ],
      "metadata": {
        "colab": {
          "base_uri": "https://localhost:8080/"
        },
        "id": "8InSaowWypIR",
        "outputId": "3847c19b-50a9-4449-f796-77dc0c80f64d"
      },
      "execution_count": 2,
      "outputs": [
        {
          "output_type": "stream",
          "name": "stdout",
          "text": [
            "nayeli ruedas alejos 17 1.69\n"
          ]
        }
      ]
    },
    {
      "cell_type": "markdown",
      "source": [
        "solicitar dos numeros al usuario y sumarlos"
      ],
      "metadata": {
        "id": "TIWaPpkGzgAq"
      }
    },
    {
      "cell_type": "code",
      "source": [
        "numero1=input(int)(\"ingresa el primero numero\")\n",
        "numero2=input(\"ingresa el segundo umero\")\n",
        "suma= numero1+numero2\n",
        "print"
      ],
      "metadata": {
        "id": "3p5VP7k6zsxj"
      },
      "execution_count": null,
      "outputs": []
    },
    {
      "cell_type": "code",
      "source": [
        "print(\"hola mundo\")"
      ],
      "metadata": {
        "colab": {
          "base_uri": "https://localhost:8080/"
        },
        "id": "hr24CO3Qx94L",
        "outputId": "1d5c42d3-f600-4003-e304-a33da13ba1ee"
      },
      "execution_count": 1,
      "outputs": [
        {
          "output_type": "stream",
          "name": "stdout",
          "text": [
            "hola mundo\n"
          ]
        }
      ]
    }
  ]
}