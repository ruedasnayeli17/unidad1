{
  "nbformat": 4,
  "nbformat_minor": 0,
  "metadata": {
    "colab": {
      "provenance": [],
      "authorship_tag": "ABX9TyNnQzO0TgVEMQlAxUzBVp/v",
      "include_colab_link": true
    },
    "kernelspec": {
      "name": "python3",
      "display_name": "Python 3"
    },
    "language_info": {
      "name": "python"
    }
  },
  "cells": [
    {
      "cell_type": "markdown",
      "metadata": {
        "id": "view-in-github",
        "colab_type": "text"
      },
      "source": [
        "<a href=\"https://colab.research.google.com/github/ruedasnayeli17/unidad1/blob/main/practica2.ipynb\" target=\"_parent\"><img src=\"https://colab.research.google.com/assets/colab-badge.svg\" alt=\"Open In Colab\"/></a>"
      ]
    },
    {
      "cell_type": "code",
      "execution_count": null,
      "metadata": {
        "id": "DpIgt608rL-R"
      },
      "outputs": [],
      "source": []
    },
    {
      "cell_type": "markdown",
      "source": [
        "practica 2-NumPy\n",
        "nayeli haydee ruedas alejos\n",
        "fecha 09 09 2025\n",
        "--------------\n",
        "como verificar el numero de dimensiones\n",
        "NumPy proporciona el atrtibuto ndim que devuelve\n",
        "un numero entero que nos dice cuantas\n",
        "dimensiones tiene una matriz.\n",
        "--------------\n",
        "ejemplo:comprueba de cuantas dimensiones\n",
        "son las siguientes matrices\n",
        "\n"
      ],
      "metadata": {
        "id": "af0e_7aNrRhY"
      }
    },
    {
      "cell_type": "code",
      "source": [
        "import numpy as np\n",
        "arregloA= np.array(42)\n",
        "arregloB= np.array([1,2,3,4,5])\n",
        "arregloC= np.array([[1,2,3],[4,5,6]])\n",
        "arregloD= np.array([[[1,2,3],[4,5,6]],[[1,2,3],[4,5,6]]])\n",
        "print(arregloA.ndim)\n",
        "print(arregloB.ndim)\n",
        "print(arregloC.ndim)\n",
        "print(arregloD.ndim)\n"
      ],
      "metadata": {
        "colab": {
          "base_uri": "https://localhost:8080/"
        },
        "id": "-jV_JOyUsnAg",
        "outputId": "c7b347af-a1c7-4812-bc1a-0ecca1897563"
      },
      "execution_count": 3,
      "outputs": [
        {
          "output_type": "stream",
          "name": "stdout",
          "text": [
            "0\n",
            "1\n",
            "2\n",
            "3\n"
          ]
        }
      ]
    },
    {
      "cell_type": "markdown",
      "source": [
        "matrices de dimensiones superiores\n",
        "una matriz puede tener cualquier numero de\n",
        "dimensiones. cuando se crea la matriz,puede\n",
        "definir el numero de dimensiones utilizando el\n",
        "argumento ndmin\n",
        "ejemplo: crea una matriz de 5 dimensiones y verifica\n",
        "que tenga las 5 dimensiones.\n",
        "------------------"
      ],
      "metadata": {
        "id": "F7iqSX5Pva-e"
      }
    },
    {
      "cell_type": "code",
      "source": [
        "import numpy as np\n",
        "arreglo=np.array([1,2,3,4,5], ndmin=5)\n",
        "\n",
        "print (arreglo)\n",
        "\n",
        "print(\"numero de dimensiones\", arreglo.ndim)"
      ],
      "metadata": {
        "colab": {
          "base_uri": "https://localhost:8080/"
        },
        "id": "SvE2_uZ2wFiE",
        "outputId": "93083444-d413-44d7-bab5-93dd68206194"
      },
      "execution_count": 11,
      "outputs": [
        {
          "output_type": "stream",
          "name": "stdout",
          "text": [
            "[[[[[1 2 3 4 5]]]]]\n",
            "numero de dimensiones 5\n"
          ]
        }
      ]
    },
    {
      "cell_type": "markdown",
      "source": [
        "Ejercicio\n",
        "considerando la siguiente matriz\n",
        "\n",
        "arreglo=np.array([[1,2,3),(4,5,6]])\n",
        "\n",
        "¿cuantas dimensiones tiene?\n",
        "respuesta=2"
      ],
      "metadata": {
        "id": "Xj9p2H24yema"
      }
    },
    {
      "cell_type": "markdown",
      "source": [
        "numpy indexacion de matrices\n",
        "acceder a elementos de una matriz\n",
        "la indexacion de matrices es lo mismo que\n",
        "acceder a un elemento de una matriz.\n",
        "puede acceder a un elemento de lamatriz haciendo\n",
        "referencia a un numero de indice.\n",
        "los indices en las matrices numpy comienza en\n",
        "0, lo que significa que el primero elemento\n",
        "tiene el indice 0 y el segundo tiene el indice\n",
        "siguiente,etc\n",
        "ejemplo: obtenga el primer elemento de la siguiente\n",
        "matriz:\n",
        "------------------\n",
        "\n"
      ],
      "metadata": {
        "id": "zO-LuwhzzYB2"
      }
    },
    {
      "cell_type": "code",
      "source": [
        "import numpy as np\n",
        "arreglo=np.array([1,2,3,4])\n",
        "\n",
        "print(arreglo[0])"
      ],
      "metadata": {
        "colab": {
          "base_uri": "https://localhost:8080/"
        },
        "id": "s6OhLU6F1AFz",
        "outputId": "8d7a0377-1e8f-4eea-95e0-7fdd1eb4ab3a"
      },
      "execution_count": 12,
      "outputs": [
        {
          "output_type": "stream",
          "name": "stdout",
          "text": [
            "1\n"
          ]
        }
      ]
    },
    {
      "cell_type": "code",
      "source": [],
      "metadata": {
        "id": "wS27zpGZzVYe"
      },
      "execution_count": null,
      "outputs": []
    }
  ]
}