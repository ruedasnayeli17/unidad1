{
  "nbformat": 4,
  "nbformat_minor": 0,
  "metadata": {
    "colab": {
      "provenance": [],
      "authorship_tag": "ABX9TyMs2pqN4lXOGjWqbBFd4JSq",
      "include_colab_link": true
    },
    "kernelspec": {
      "name": "python3",
      "display_name": "Python 3"
    },
    "language_info": {
      "name": "python"
    }
  },
  "cells": [
    {
      "cell_type": "markdown",
      "metadata": {
        "id": "view-in-github",
        "colab_type": "text"
      },
      "source": [
        "<a href=\"https://colab.research.google.com/github/ruedasnayeli17/unidad1/blob/main/practica4.ipynb\" target=\"_parent\"><img src=\"https://colab.research.google.com/assets/colab-badge.svg\" alt=\"Open In Colab\"/></a>"
      ]
    },
    {
      "cell_type": "code",
      "execution_count": null,
      "metadata": {
        "id": "kmpQuG5dO__a"
      },
      "outputs": [],
      "source": []
    },
    {
      "cell_type": "markdown",
      "source": [
        "**Actividad 14**-\n",
        "---------------\n",
        "Numpy indexacion de matrices accede a elementos de una matriz, la indexacion\n",
        "de matrices es lo mismo que acceder a un elemento de una matriz.\n",
        "Puede acceder a un elemento de una matriz haciendo referencia a su mismo indice.\n",
        "---------------\n",
        "Los indices en las matrices Numpy comienzan en cero , que indican el primer elemento tiene indice cero, el segundo tiene indice 3, ele elememto 3 tiene indice?\n",
        "---------------\n",
        "**Ejemplo**\n",
        "------\n",
        "Obtenga el primer elemento de la siguiente matriz...\n",
        "------"
      ],
      "metadata": {
        "id": "2GfKiGwoPiIH"
      }
    },
    {
      "cell_type": "code",
      "source": [
        "import numpy as np\n",
        "arreglo = np.array([1, 2, 3, 4, 5])\n",
        "print(arreglo[0])"
      ],
      "metadata": {
        "colab": {
          "base_uri": "https://localhost:8080/"
        },
        "id": "frIuQXZSRv1n",
        "outputId": "968e8463-3867-4310-b322-a0728d6c1041"
      },
      "execution_count": null,
      "outputs": [
        {
          "output_type": "stream",
          "name": "stdout",
          "text": [
            "1\n"
          ]
        }
      ]
    },
    {
      "cell_type": "markdown",
      "source": [
        "De la siguiente lista: 6,7,8,9,10, obtenga el tercero y cuarto elemento\n",
        "------------"
      ],
      "metadata": {
        "id": "lWMUWTyNTIG-"
      }
    },
    {
      "cell_type": "code",
      "source": [
        "import numpy as np\n",
        "arreglo = np.array([[6, 7, 8, 9, 10]])\n",
        "print(arreglo[0, 2])\n",
        "print(arreglo[0, 3])"
      ],
      "metadata": {
        "colab": {
          "base_uri": "https://localhost:8080/"
        },
        "id": "MefQvn3NTh9F",
        "outputId": "8844eeb1-533e-4a7d-cbbe-ef18062bf783"
      },
      "execution_count": null,
      "outputs": [
        {
          "output_type": "stream",
          "name": "stdout",
          "text": [
            "8\n",
            "9\n"
          ]
        }
      ]
    },
    {
      "cell_type": "markdown",
      "source": [
        "**\"Acceder a matrices 2D\"**\n",
        "-------------------------\n",
        "Para acceder a elementos de matrices 2D como una tabla con filas y columnas\n",
        ", donde la dimension representa la fila y el indice representa la columna.\n",
        "---------\n",
        "lista 1=1,2,3,4,5\n",
        "---\n",
        "Lista 2=6,7,8,9,10\n",
        "------\n",
        "de la matriz 2D accede al elemento de la primera fila yla siguiente columna\n",
        "---------\n"
      ],
      "metadata": {
        "id": "1TAzPPQNUc-N"
      }
    },
    {
      "cell_type": "code",
      "source": [
        "import numpy as np\n",
        "matriz = np.array([[1, 2, 3, 4, 5],[6, 7, 8, 9, 10]])\n",
        "elemento = matriz[0, 1]\n",
        "print( elemento)\n"
      ],
      "metadata": {
        "id": "NYvDG3QeVTKs",
        "colab": {
          "base_uri": "https://localhost:8080/"
        },
        "outputId": "94c884c1-e70d-4f7c-bf49-3db4d3e8d674"
      },
      "execution_count": 29,
      "outputs": [
        {
          "output_type": "stream",
          "name": "stdout",
          "text": [
            "2\n"
          ]
        }
      ]
    }
  ]
}