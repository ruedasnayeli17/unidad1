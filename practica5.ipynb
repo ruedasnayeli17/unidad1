{
  "nbformat": 4,
  "nbformat_minor": 0,
  "metadata": {
    "colab": {
      "provenance": [],
      "authorship_tag": "ABX9TyM4mWjZ6/rVi6iE+YjQcl5+",
      "include_colab_link": true
    },
    "kernelspec": {
      "name": "python3",
      "display_name": "Python 3"
    },
    "language_info": {
      "name": "python"
    }
  },
  "cells": [
    {
      "cell_type": "markdown",
      "metadata": {
        "id": "view-in-github",
        "colab_type": "text"
      },
      "source": [
        "<a href=\"https://colab.research.google.com/github/ruedasnayeli17/unidad1/blob/main/practica5.ipynb\" target=\"_parent\"><img src=\"https://colab.research.google.com/assets/colab-badge.svg\" alt=\"Open In Colab\"/></a>"
      ]
    },
    {
      "cell_type": "code",
      "execution_count": null,
      "metadata": {
        "id": "EHROx3Ai8hIO"
      },
      "outputs": [],
      "source": []
    },
    {
      "cell_type": "markdown",
      "source": [
        "De la siguientes listas\n",
        "\n",
        "calcula media, mediana y moda:\n",
        "\n",
        "[23, 45, 56, 12, 67, 34, 55, 21],\n",
        "[10, 20, 30, 40, 20, 50, 20],\n",
        "[10, 20, 30, 40, 50]"
      ],
      "metadata": {
        "id": "WjkCx67D8oiW"
      }
    },
    {
      "cell_type": "markdown",
      "source": [
        "**PRIMER** **LISTA**"
      ],
      "metadata": {
        "id": "PWsIVVg9AmFW"
      }
    },
    {
      "cell_type": "markdown",
      "source": [
        "media"
      ],
      "metadata": {
        "id": "hZAa9gS4Av5G"
      }
    },
    {
      "cell_type": "code",
      "source": [
        "from statistics import mean\n",
        "numeros=[23,45,56,12,67,34,55,21]\n",
        "resultado_media=mean (numeros)\n",
        "print(resultado_media)"
      ],
      "metadata": {
        "colab": {
          "base_uri": "https://localhost:8080/"
        },
        "id": "PRJZEJH8AouW",
        "outputId": "d39d5371-36b1-4a1b-8682-cdaeccc7c1ea"
      },
      "execution_count": 11,
      "outputs": [
        {
          "output_type": "stream",
          "name": "stdout",
          "text": [
            "39.125\n"
          ]
        }
      ]
    },
    {
      "cell_type": "markdown",
      "source": [
        "mediana"
      ],
      "metadata": {
        "id": "3EIsAlfJBchO"
      }
    },
    {
      "cell_type": "code",
      "source": [
        "from statistics import median\n",
        "numeros=[23,45,56,12,67,34,55,21]\n",
        "resultado_mediana=median(numeros)\n",
        "print (resultado_mediana)"
      ],
      "metadata": {
        "colab": {
          "base_uri": "https://localhost:8080/"
        },
        "id": "vPPb5sJ3AIT2",
        "outputId": "09a95d32-0940-4b0e-e17c-e7b571cf6a13"
      },
      "execution_count": 20,
      "outputs": [
        {
          "output_type": "stream",
          "name": "stdout",
          "text": [
            "39.5\n"
          ]
        }
      ]
    },
    {
      "cell_type": "markdown",
      "source": [
        "moda"
      ],
      "metadata": {
        "id": "OHxBwI5ZCBxe"
      }
    },
    {
      "cell_type": "code",
      "source": [
        "from statistics import mode\n",
        "numeros=[23,45,56,12,67,34,55,21]\n",
        "resultadp_moda=mode(numeros)\n",
        "print(resultadp_moda)"
      ],
      "metadata": {
        "colab": {
          "base_uri": "https://localhost:8080/"
        },
        "id": "jmLpkuQDCBP-",
        "outputId": "dd084964-1525-465a-e47c-3c24cd392d7d"
      },
      "execution_count": 15,
      "outputs": [
        {
          "output_type": "stream",
          "name": "stdout",
          "text": [
            "23\n"
          ]
        }
      ]
    },
    {
      "cell_type": "markdown",
      "source": [
        "**SEGUNDA** **LISTA**"
      ],
      "metadata": {
        "id": "-L1KMnFaClWe"
      }
    },
    {
      "cell_type": "markdown",
      "source": [
        "media"
      ],
      "metadata": {
        "id": "PUFGxYyoCsg2"
      }
    },
    {
      "cell_type": "code",
      "source": [
        "from statistics import mean\n",
        "numeros=[10,20,30,40,20,50,20]\n",
        "media=mean(numeros)\n",
        "print(media)"
      ],
      "metadata": {
        "colab": {
          "base_uri": "https://localhost:8080/"
        },
        "id": "nAGrGvpQCsHu",
        "outputId": "dcd38db2-e03b-4caa-ffb4-971cac7c9c6d"
      },
      "execution_count": 16,
      "outputs": [
        {
          "output_type": "stream",
          "name": "stdout",
          "text": [
            "27.142857142857142\n"
          ]
        }
      ]
    },
    {
      "cell_type": "markdown",
      "source": [
        "mediana:"
      ],
      "metadata": {
        "id": "Gi3g6JJoDW-2"
      }
    },
    {
      "cell_type": "code",
      "source": [
        "from statistics import median\n",
        "numeros=[10,20,30,40,20,50,20]\n",
        "mediana=median(numeros)\n",
        "print(mediana)"
      ],
      "metadata": {
        "colab": {
          "base_uri": "https://localhost:8080/"
        },
        "id": "zmGZXpyrDajO",
        "outputId": "4016b1a8-941e-4301-b9bb-b793cd1bf4d7"
      },
      "execution_count": 17,
      "outputs": [
        {
          "output_type": "stream",
          "name": "stdout",
          "text": [
            "20\n"
          ]
        }
      ]
    },
    {
      "cell_type": "markdown",
      "source": [
        "moda;"
      ],
      "metadata": {
        "id": "oDEPC5epDzV2"
      }
    },
    {
      "cell_type": "code",
      "source": [
        "from statistics import mode\n",
        "numeros=[10,20,30,40,20,50,20]\n",
        "moda=mode(numeros)\n",
        "print(moda)"
      ],
      "metadata": {
        "colab": {
          "base_uri": "https://localhost:8080/"
        },
        "id": "5LL0Ckr9D1su",
        "outputId": "3a192fab-7d8a-4e46-8325-d18af359b61a"
      },
      "execution_count": 19,
      "outputs": [
        {
          "output_type": "stream",
          "name": "stdout",
          "text": [
            "20\n"
          ]
        }
      ]
    },
    {
      "cell_type": "markdown",
      "source": [
        "**TERCER** **LISTA**"
      ],
      "metadata": {
        "id": "iX6tGdV2AChe"
      }
    },
    {
      "cell_type": "code",
      "source": [
        "import statistics\n",
        "datos = [10,20,30,40,50]\n",
        "media = statistics.mean(datos)\n",
        "print(f\"la media es: {media}\")"
      ],
      "metadata": {
        "colab": {
          "base_uri": "https://localhost:8080/"
        },
        "id": "HPvuAgbU8s-l",
        "outputId": "75671f3b-6d18-4b39-9df2-2864d670db21"
      },
      "execution_count": 5,
      "outputs": [
        {
          "output_type": "stream",
          "name": "stdout",
          "text": [
            "la media es: 30\n"
          ]
        }
      ]
    },
    {
      "cell_type": "code",
      "source": [
        "import statistics\n",
        "datos = [10,20,30,40,50]\n",
        "mediana = statistics.median(datos)\n",
        "print(f\"la mediana es: {mediana}\")"
      ],
      "metadata": {
        "colab": {
          "base_uri": "https://localhost:8080/"
        },
        "id": "AaYw18-A-od-",
        "outputId": "2ef7fd44-ebee-4c6a-f6d8-d97bb516db01"
      },
      "execution_count": 6,
      "outputs": [
        {
          "output_type": "stream",
          "name": "stdout",
          "text": [
            "la mediana es: 30\n"
          ]
        }
      ]
    },
    {
      "cell_type": "code",
      "source": [
        "import statistics\n",
        "\n",
        "datos = [10, 20, 30, 48, 50]\n",
        "moda = statistics.mode(datos)\n",
        "print(f\"la moda es: {moda}\")"
      ],
      "metadata": {
        "colab": {
          "base_uri": "https://localhost:8080/"
        },
        "id": "QFf7ujHP-7mO",
        "outputId": "ecf172fc-0798-4a55-fc8a-21eb084519da"
      },
      "execution_count": 8,
      "outputs": [
        {
          "output_type": "stream",
          "name": "stdout",
          "text": [
            "la moda es: 10\n"
          ]
        }
      ]
    }
  ]
}