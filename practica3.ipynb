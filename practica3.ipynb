{
  "nbformat": 4,
  "nbformat_minor": 0,
  "metadata": {
    "colab": {
      "provenance": [],
      "authorship_tag": "ABX9TyODtd1FXSh6Z8ITGD/ABpGg",
      "include_colab_link": true
    },
    "kernelspec": {
      "name": "python3",
      "display_name": "Python 3"
    },
    "language_info": {
      "name": "python"
    }
  },
  "cells": [
    {
      "cell_type": "markdown",
      "metadata": {
        "id": "view-in-github",
        "colab_type": "text"
      },
      "source": [
        "<a href=\"https://colab.research.google.com/github/ruedasnayeli17/unidad1/blob/main/practica3.ipynb\" target=\"_parent\"><img src=\"https://colab.research.google.com/assets/colab-badge.svg\" alt=\"Open In Colab\"/></a>"
      ]
    },
    {
      "cell_type": "code",
      "execution_count": null,
      "metadata": {
        "id": "RsrjtiwbOlEG"
      },
      "outputs": [],
      "source": []
    },
    {
      "cell_type": "markdown",
      "source": [
        "1-de las siguientes listas 1,2,3,4,5 y 6,7,8,9,10, accede al elemento de la 2da fila, 5ta columna"
      ],
      "metadata": {
        "id": "SC8-eyBpWbjV"
      }
    },
    {
      "cell_type": "code",
      "source": [
        "import numpy as np\n",
        "matriz=np.array=([[1,2,3,4,5],[6,7,8,9,10]])\n",
        "elemento=matriz[1][4]\n",
        "print(\"en la fila 2 columna 5:\",elemento)\n"
      ],
      "metadata": {
        "colab": {
          "base_uri": "https://localhost:8080/"
        },
        "id": "75KKIeGxWuk1",
        "outputId": "406a3119-eb4b-4900-d261-741395e034a8"
      },
      "execution_count": 2,
      "outputs": [
        {
          "output_type": "stream",
          "name": "stdout",
          "text": [
            "en la fila 2 columna 5: 10\n"
          ]
        }
      ]
    },
    {
      "cell_type": "markdown",
      "source": [
        "2. De las siguientes listas 1, 2, 3 -  4, 5, 6 - 7, 8, 9 y 10, 11, 12, Acceda al tercer elemento de la segunda matriz de la primera matriz"
      ],
      "metadata": {
        "id": "HEHMZ29YX-0t"
      }
    },
    {
      "cell_type": "code",
      "source": [
        "matriz = [\n",
        "    [   # Bloque 0\n",
        "        [1, 2, 3],\n",
        "        [4, 5, 6],\n",
        "        [7, 8, 9]\n",
        "          ],\n",
        "    [\n",
        "        [10, 11, 12],\n",
        "        [13, 14, 15],\n",
        "        [16, 17, 18]\n",
        "    ]\n",
        "]\n",
        "\n",
        "\n",
        "elemento = matriz[0][1][2]\n",
        "\n",
        "print(\"El tercer elemento de la segunda fila del primer bloque es:\", elemento)"
      ],
      "metadata": {
        "colab": {
          "base_uri": "https://localhost:8080/"
        },
        "id": "R0xYt4wFYN0k",
        "outputId": "2893bf7a-d713-4068-81f4-89e1b7ec4a7c"
      },
      "execution_count": 3,
      "outputs": [
        {
          "output_type": "stream",
          "name": "stdout",
          "text": [
            "El tercer elemento de la segunda fila del primer bloque es: 6\n"
          ]
        }
      ]
    },
    {
      "cell_type": "markdown",
      "source": [],
      "metadata": {
        "id": "HNvMHVwpYMk1"
      }
    }
  ]
}