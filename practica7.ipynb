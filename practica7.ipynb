{
  "nbformat": 4,
  "nbformat_minor": 0,
  "metadata": {
    "colab": {
      "provenance": [],
      "authorship_tag": "ABX9TyNAkjYA3fjpcVBC+jpvclQZ",
      "include_colab_link": true
    },
    "kernelspec": {
      "name": "python3",
      "display_name": "Python 3"
    },
    "language_info": {
      "name": "python"
    }
  },
  "cells": [
    {
      "cell_type": "markdown",
      "metadata": {
        "id": "view-in-github",
        "colab_type": "text"
      },
      "source": [
        "<a href=\"https://colab.research.google.com/github/ruedasnayeli17/unidad1/blob/main/practica7.ipynb\" target=\"_parent\"><img src=\"https://colab.research.google.com/assets/colab-badge.svg\" alt=\"Open In Colab\"/></a>"
      ]
    },
    {
      "cell_type": "code",
      "execution_count": null,
      "metadata": {
        "id": "1AO1THG-GOT8"
      },
      "outputs": [],
      "source": [
        "Nayeli haydee ruedas alejos-practica7-25 de septiembre 2025\n",
        "--------\n",
        "slicing numpy\n",
        "-------\n",
        "utilice STEP para determinar el paso del corte:\n",
        "ejemplo:([1,2,3,4,5,6,7])-devuelve todos\n",
        "los elementos del indice 1 al indice 5"
      ]
    },
    {
      "cell_type": "code",
      "source": [
        "import numpy as np\n",
        "arreglo=np.array([1,2,3,4,5,6,7])\n",
        "print(arreglo[1:5:2])\n"
      ],
      "metadata": {
        "colab": {
          "base_uri": "https://localhost:8080/"
        },
        "id": "xjspFc72IMZ_",
        "outputId": "502dda72-32a5-45c9-f2e8-77ca1aca5722"
      },
      "execution_count": 1,
      "outputs": [
        {
          "output_type": "stream",
          "name": "stdout",
          "text": [
            "[2 4]\n"
          ]
        }
      ]
    },
    {
      "cell_type": "markdown",
      "source": [
        "ejemplo:2\n",
        "([1,2,3,4,5,6,7])\n",
        "devuyelve los elementos de la matriz\n",
        "------"
      ],
      "metadata": {
        "id": "XvqjR5ODIyyH"
      }
    },
    {
      "cell_type": "code",
      "source": [
        "import numpy as np\n",
        "arreglo=np.array([1,2,3,4,5,6,7])\n",
        "print(arreglo[::2])"
      ],
      "metadata": {
        "colab": {
          "base_uri": "https://localhost:8080/"
        },
        "id": "WTK-z7hWI_4-",
        "outputId": "165d9ea3-d233-442c-ec81-68bea6515321"
      },
      "execution_count": 2,
      "outputs": [
        {
          "output_type": "stream",
          "name": "stdout",
          "text": [
            "[1 3 5 7]\n"
          ]
        }
      ]
    },
    {
      "cell_type": "markdown",
      "source": [
        "slice de matrices 2D\n",
        "------------\n",
        "ejemplo([[1,2,3,4,5],[6,7,8,9,10]]\n",
        "del segundo elemento, corta el indice 1 al indice 4\n",
        "-------"
      ],
      "metadata": {
        "id": "Xj4z_2p1JvW2"
      }
    },
    {
      "cell_type": "code",
      "source": [
        "import numpy as np\n",
        "arreglo=np.array([[1,2,3,4,5],[6,7,8,9,10]])\n",
        "print(arreglo[1,1:4:])"
      ],
      "metadata": {
        "colab": {
          "base_uri": "https://localhost:8080/"
        },
        "id": "ZqhSiuo0Khe-",
        "outputId": "9985246a-f32e-4c96-deb1-029bb583f506"
      },
      "execution_count": 4,
      "outputs": [
        {
          "output_type": "stream",
          "name": "stdout",
          "text": [
            "[7 8 9]\n"
          ]
        }
      ]
    },
    {
      "cell_type": "markdown",
      "source": [
        "ejemplo 4:([[1,2,3,4,5],[6,7,8,9,10])\n",
        "de ambos elementos devuelve el indice 2\n",
        "------------\n"
      ],
      "metadata": {
        "id": "AP_h13LmNEvs"
      }
    },
    {
      "cell_type": "code",
      "source": [
        "import numpy as np\n",
        "arreglo=np.array([[1,2,3,4,5],[6,7,8,9,10]])\n",
        "print(arreglo[0:2,2])"
      ],
      "metadata": {
        "colab": {
          "base_uri": "https://localhost:8080/"
        },
        "id": "XOBGmzWeNe0k",
        "outputId": "92e0eea2-9280-413c-ce29-ae461a6a448c"
      },
      "execution_count": 5,
      "outputs": [
        {
          "output_type": "stream",
          "name": "stdout",
          "text": [
            "[3 8]\n"
          ]
        }
      ]
    },
    {
      "cell_type": "markdown",
      "source": [
        "ejemplo 5: ([[1,2,3,4,5],[6,7,8,9,10]])\n",
        "de ambos elementos, corta el indice 1 al indice 4\n",
        "--------------\n"
      ],
      "metadata": {
        "id": "1tH0luGQOFH8"
      }
    },
    {
      "cell_type": "code",
      "source": [
        "import numpy as np\n",
        "arreglo=np.array([[1,2,3,4,5],[6,7,8,9,10]])\n",
        "print(arreglo[:, 1:4])"
      ],
      "metadata": {
        "colab": {
          "base_uri": "https://localhost:8080/"
        },
        "id": "rolc2xHSObPV",
        "outputId": "cc06f8cd-6ed1-48c2-c0d9-91df2857e978"
      },
      "execution_count": 7,
      "outputs": [
        {
          "output_type": "stream",
          "name": "stdout",
          "text": [
            "[[2 3 4]\n",
            " [7 8 9]]\n"
          ]
        }
      ]
    },
    {
      "cell_type": "markdown",
      "source": [
        "ejercicio 1: autonomo\n",
        "del siguiente arreglo ¿cual es el resultado?\n",
        "([1,2,3,4,5,6,7])\n",
        "corta del 1er elememto al 6to elemento con paso 2"
      ],
      "metadata": {
        "id": "FUA8JTh1PVyj"
      }
    },
    {
      "cell_type": "code",
      "source": [
        "import numpy as np\n",
        "arreglo=np.array([1,2,3,4,5,6,7])\n",
        "print(arreglo[0:6:2])"
      ],
      "metadata": {
        "colab": {
          "base_uri": "https://localhost:8080/"
        },
        "id": "ZlRlLKaIP3tj",
        "outputId": "3d86ee08-cc5b-4859-ee9d-ccfed026b8d7"
      },
      "execution_count": 9,
      "outputs": [
        {
          "output_type": "stream",
          "name": "stdout",
          "text": [
            "[1 3 5]\n"
          ]
        }
      ]
    }
  ]
}