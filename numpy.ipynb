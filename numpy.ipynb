{
  "nbformat": 4,
  "nbformat_minor": 0,
  "metadata": {
    "colab": {
      "provenance": [],
      "authorship_tag": "ABX9TyMNM+mpxwBtb9/jG9IUJpDp",
      "include_colab_link": true
    },
    "kernelspec": {
      "name": "python3",
      "display_name": "Python 3"
    },
    "language_info": {
      "name": "python"
    }
  },
  "cells": [
    {
      "cell_type": "markdown",
      "metadata": {
        "id": "view-in-github",
        "colab_type": "text"
      },
      "source": [
        "<a href=\"https://colab.research.google.com/github/ruedasnayeli17/unidad1/blob/main/numpy.ipynb\" target=\"_parent\"><img src=\"https://colab.research.google.com/assets/colab-badge.svg\" alt=\"Open In Colab\"/></a>"
      ]
    },
    {
      "cell_type": "code",
      "execution_count": null,
      "metadata": {
        "id": "jvj3snSJjto9"
      },
      "outputs": [],
      "source": []
    },
    {
      "cell_type": "markdown",
      "source": [
        "Numpy es una libreria de Python.\n",
        "Numpy se utiliza para trabajar con\n",
        "matrices o arreglos.\n",
        "Numpy es la breviatura de \"python numerico\"\n",
        "tambien tiene funciones para trabajar en el\n",
        "dominio de algebra lineal, la transformada\n",
        "y las matrices\n",
        "En python tenemos listas que sirven como\n",
        "matrices. pero como objetivo proporcionar un\n",
        "objeto de matriz que sea 50 veces mas\n",
        "rapido que las listas tradicionales."
      ],
      "metadata": {
        "id": "dg4c1omvjxHf"
      }
    },
    {
      "cell_type": "code",
      "source": [
        "#primero tenemos que importar la libreria\n",
        "import numpy\n",
        "\n",
        "arreglo = numpy.array([1,2,3,4,5])\n",
        "print(arreglo)"
      ],
      "metadata": {
        "colab": {
          "base_uri": "https://localhost:8080/"
        },
        "id": "MIR-xqtmlVoL",
        "outputId": "b76563a4-e33b-4d29-d69d-20d700ae00dc"
      },
      "execution_count": 6,
      "outputs": [
        {
          "output_type": "stream",
          "name": "stdout",
          "text": [
            "[1 2 3 4 5]\n"
          ]
        }
      ]
    },
    {
      "cell_type": "markdown",
      "source": [
        "Numpy como np\n",
        "Numpy generalmente se importa bajo el alias np\n",
        "En python los alias son un nombre alternativo para referirse a la misma cosa"
      ],
      "metadata": {
        "id": "H0VfmpStmNOP"
      }
    },
    {
      "cell_type": "code",
      "source": [
        "import numpy as np\n",
        "\n",
        "arreglo=np.array([6,7,8,9,10])\n",
        "print(arreglo)"
      ],
      "metadata": {
        "colab": {
          "base_uri": "https://localhost:8080/"
        },
        "id": "wxy1jP-lmkCs",
        "outputId": "ba4d4c30-c7fb-41d6-e4c6-399290af1df0"
      },
      "execution_count": 5,
      "outputs": [
        {
          "output_type": "stream",
          "name": "stdout",
          "text": [
            "[ 6  7  8  9 10]\n"
          ]
        }
      ]
    },
    {
      "cell_type": "markdown",
      "source": [
        "comprobando la version de numpy la cadena\n",
        "de la region se almacena en el atributo\n",
        "__version__\n"
      ],
      "metadata": {
        "id": "saIYfZVqna8x"
      }
    },
    {
      "cell_type": "code",
      "source": [
        "import numpy as np\n",
        "\n",
        "print(np.__version__)\n"
      ],
      "metadata": {
        "colab": {
          "base_uri": "https://localhost:8080/"
        },
        "id": "I-BEY7Kxn0wX",
        "outputId": "cef358f1-3d99-4911-9f39-1650761c7937"
      },
      "execution_count": 4,
      "outputs": [
        {
          "output_type": "stream",
          "name": "stdout",
          "text": [
            "2.0.2\n"
          ]
        }
      ]
    },
    {
      "cell_type": "markdown",
      "source": [
        "Numpy creando matrices\n",
        "crear un objeto ndarray de numpy\n",
        "Numpy se utiliza para trabajar con matrices\n",
        "el objeto de matriz de llama ndarray\n",
        "podemos crear un numpy ndarray utilizando la funcion\n",
        "array()  "
      ],
      "metadata": {
        "id": "s23F-gJ2oRKZ"
      }
    },
    {
      "cell_type": "code",
      "source": [
        "import numpy as numpy\n",
        "arreglo = np.array([\"raul\",\"ana\",\"kimberly\",\"yazmin\"])\n",
        "print(arreglo)\n",
        "print(type(arreglo))"
      ],
      "metadata": {
        "colab": {
          "base_uri": "https://localhost:8080/"
        },
        "id": "birguPglpQO4",
        "outputId": "f99fd482-c9ea-4397-f191-ddbcb249739b"
      },
      "execution_count": 11,
      "outputs": [
        {
          "output_type": "stream",
          "name": "stdout",
          "text": [
            "['raul' 'ana' 'kimberly' 'yazmin']\n",
            "<class 'numpy.ndarray'>\n"
          ]
        }
      ]
    },
    {
      "cell_type": "markdown",
      "source": [
        "Dimensiones en matrices\n",
        "Una dimension en matrices es un nivel de profundidad\n",
        "de matriz (matrices anidadas)\n",
        "Una matriz unidada contiene matrices\n",
        "como elementos\n",
        "Matrices 0-D son elementos de una matriz,\n",
        "cada valor de una matriz es una matriz 0-D.\n",
        "Ejemplo crea una matriz 0-D con un valor de 42"
      ],
      "metadata": {
        "id": "oX2lKmKuqSnW"
      }
    },
    {
      "cell_type": "code",
      "source": [
        "import numpy as np\n",
        "\n",
        "arreglo= np.array(42)\n",
        "\n",
        "print(arreglo)\n"
      ],
      "metadata": {
        "colab": {
          "base_uri": "https://localhost:8080/"
        },
        "id": "Hhm4PTjTrFfs",
        "outputId": "f8eb376a-a4e6-47aa-9afd-8fb06a7a1c8b"
      },
      "execution_count": 15,
      "outputs": [
        {
          "output_type": "stream",
          "name": "stdout",
          "text": [
            "42\n"
          ]
        }
      ]
    },
    {
      "cell_type": "markdown",
      "source": [
        "matrices 1-D\n",
        "una matriz que tiene matrices 0-D\n",
        "como elementos se denomina matriz\n",
        "unidimensional o 3-D\n",
        "Estas son las matrices mas comunes\n",
        "y basicas\n",
        "Ejemplo: crea una matriz de 1-0 que tenga los valores\n",
        "1,2,3,4,5"
      ],
      "metadata": {
        "id": "9yn-Ombhshmz"
      }
    },
    {
      "cell_type": "code",
      "source": [
        "import numpy as np\n",
        "\n",
        "arreglo=np.array([1,2,3,4,5])\n",
        "\n",
        "print(arreglo)\n"
      ],
      "metadata": {
        "colab": {
          "base_uri": "https://localhost:8080/"
        },
        "id": "lyaPvhmZtRD9",
        "outputId": "2b492715-5bec-42f4-871a-70aec7377eaf"
      },
      "execution_count": 17,
      "outputs": [
        {
          "output_type": "stream",
          "name": "stdout",
          "text": [
            "[1 2 3 4 5]\n"
          ]
        }
      ]
    },
    {
      "cell_type": "markdown",
      "source": [
        "matrices 2-D\n",
        "una matriz que tiene matrices de 1-D\n",
        "como elementos se denomina matriz 2-D\n",
        "a menudo se utilizan para representar matrices de segundo orden, NumPy\n",
        "tiene un submodulo completo dedicado a operaciones con matrices llamado\n",
        "numpy.mat\n",
        "Ejemplo:crea una matriz 2D que contenga dos matrices con los\n",
        "valores 123 y 456"
      ],
      "metadata": {
        "id": "SxODZtj7txiU"
      }
    },
    {
      "cell_type": "code",
      "source": [
        "import numpy as np\n",
        "\n",
        "arreglo= np.array([[1,2,3],[4,5,6]])\n",
        "\n",
        "print(arreglo)"
      ],
      "metadata": {
        "colab": {
          "base_uri": "https://localhost:8080/"
        },
        "id": "JLk-1fE-ur_Z",
        "outputId": "41e2d3f5-1acf-4d1c-e9e8-3a5e47a1abd5"
      },
      "execution_count": 22,
      "outputs": [
        {
          "output_type": "stream",
          "name": "stdout",
          "text": [
            "[[1 2 3]\n",
            " [4 5 6]]\n"
          ]
        }
      ]
    },
    {
      "cell_type": "markdown",
      "source": [
        "Matrices 3D\n",
        "una matriz que tiene 2D se\n",
        "denomina matriz 3D\n",
        "estas matrices se utilizan para\n",
        "representar una matriz de tercer orden\n",
        "Ejemplo: crea una matriz 3D con dos matrices\n",
        "bidimensionales, ambas conteniendo dos\n",
        "matrices con los valores 123 y 456"
      ],
      "metadata": {
        "id": "bRzmjy-rvgPu"
      }
    },
    {
      "cell_type": "code",
      "source": [
        "import numpy as np\n",
        "arreglo=np.array([[[1,2,3,],[4,5,6]],[[1,2,3],[4,5,6]]])\n",
        "\n",
        "print(arreglo)"
      ],
      "metadata": {
        "colab": {
          "base_uri": "https://localhost:8080/"
        },
        "id": "374tgr-XwGf7",
        "outputId": "723954cc-d37b-4f16-a473-f0faef3af22d"
      },
      "execution_count": 25,
      "outputs": [
        {
          "output_type": "stream",
          "name": "stdout",
          "text": [
            "[[[1 2 3]\n",
            "  [4 5 6]]\n",
            "\n",
            " [[1 2 3]\n",
            "  [4 5 6]]]\n"
          ]
        }
      ]
    }
  ]
}